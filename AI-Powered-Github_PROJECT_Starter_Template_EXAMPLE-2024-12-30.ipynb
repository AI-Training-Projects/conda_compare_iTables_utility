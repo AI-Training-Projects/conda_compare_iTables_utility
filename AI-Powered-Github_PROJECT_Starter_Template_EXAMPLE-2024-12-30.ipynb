{
 "cells": [
  {
   "cell_type": "markdown",
   "id": "50d11479-50c4-4287-bf08-ab94b20fb61b",
   "metadata": {},
   "source": [
    "# Project Name: ***News API with Voice Output***"
   ]
  },
  {
   "cell_type": "markdown",
   "id": "411adbba-add6-47f5-83fd-2579ac8d9fc1",
   "metadata": {
    "tags": []
   },
   "source": [
    "## Project & Work Product Description: \n",
    "### Project Goals \n",
    " - Learn how to apply the iTables package.\n",
    " - Create a reusable tool to help me identify the \"best\" conda environment for a future project.\n",
    " - Make sure the voice parts work\n",
    "\n",
    "**Updated: 2024.12.30**"
   ]
  },
  {
   "cell_type": "markdown",
   "id": "f3abf337-c63f-4af4-a7d0-f9ae0a35f7eb",
   "metadata": {},
   "source": [
    "### Description of Business Problem:\n",
    "    ***Short Paragraph description of what problem(s) you are trying to solve, things you are learning, or value you want to create.***\n",
    "\n",
    "I want a tool to visually compare and view the differences between these user-named two enviroments with respect to their packages, their revision histories, and the installation commands used to build them. There was not a single conda command line to do this, so we created a Python program to report on conda environment histories.\n"
   ]
  },
  {
   "cell_type": "markdown",
   "id": "cc1db790-c67e-4f46-928d-411dcf43fbde",
   "metadata": {},
   "source": [
    "### Solution Design (high-level):\n",
    "\n",
    "Use Jupyter NB for initial graphical user interface.\n",
    "Use iTables package to have interactive Pandas dataframe that sorts, filters and paginates rows.\n"
   ]
  },
  {
   "cell_type": "markdown",
   "id": "fd10ee81-9967-41d5-a6f8-9689630fa950",
   "metadata": {},
   "source": [
    "### Solution Code Description: \n",
    "    •\tThe code (to help users understand it.)\n",
    "    •\tHyperlinks to actual complete code  \n",
    "\n",
    "Three primary functions to analyze and display the differences and similarities of two different conda environments.  "
   ]
  },
  {
   "cell_type": "markdown",
   "id": "9692af98-52d4-4bad-9043-88dac2bc4640",
   "metadata": {},
   "source": [
    "## Application Use: ***(Instructions for How to Use The Software)*** \n",
    "    If your application applies to multiple use cases, list and briefly describe each major use case. "
   ]
  },
  {
   "cell_type": "markdown",
   "id": "21d8327b-ef86-4006-996c-30f7b63106d5",
   "metadata": {},
   "source": [
    "## Description of Solution:\n",
    "    •\tSoftware functions for solving problem(s) step by step.\n",
    "    •\tWorkflow diagram of future (\"TO-BE\") state (improved processes from your solution).\n",
    "    •\t\"Minimum Viable Product\" (MVP) 1.0 delivered.  (V1.x delivered beyond MVP V1.0?)\n",
    "    •\tLater MVP, i.e., v2, v3, vN+ functionality to be delivered? \n",
    "            • additional requirements, GUI, usability, etc. for later versions"
   ]
  },
  {
   "cell_type": "markdown",
   "id": "6536b722-f2e2-48d6-97d3-3960f82ba982",
   "metadata": {
    "tags": []
   },
   "source": [
    "### Application Use - ***Tips & Tricks***:    \n",
    "\n",
    "    If it is not obvious or documentation is not built into the user interface (or written in a Jupyter Notebook), then briefly describe each major use case.  Minor variations can be left out. \n",
    "Additional Important Guidelines for Others to Use Your Work Product:\n",
    "\n",
    "    If there are other important things you learned or know from using, applying, or developing your project code, then please let others know.  This can save people hours or days of time. \n",
    "    \n",
    "    This can include details on any aspect of usage, including installation, dependencies of OS, platform, package dependencies, data source limitations, or simply Tips & Tricks for new users.  \n",
    "    "
   ]
  },
  {
   "cell_type": "markdown",
   "id": "01971f50-a731-4f5d-ae72-07689e9d002f",
   "metadata": {
    "tags": []
   },
   "source": [
    "## Lessons Learned: [optional here, can be put at the end.]\n",
    "\n",
    "[ Hyperlinks to more detailed project description information can be linked to documents in subfolders in the github repository. ]:"
   ]
  },
  {
   "cell_type": "markdown",
   "id": "419ac5c2-3e1e-4ff6-a5e0-c8e5f696b51f",
   "metadata": {},
   "source": [
    "## Installation:\n",
    "\n",
    "    Step-by-step instructions for OTHERS to install, set-up, use, re-use, and apply your software:   \n",
    "\n",
    "    Instructions to get your solution working:\n",
    "\n",
    "    Installation: \n",
    "    Software packages and tools:\n",
    "        Configuration, Input and output folder structure, \n",
    "        data sets, URLs, etc."
   ]
  },
  {
   "cell_type": "markdown",
   "id": "f70d98e4-a330-4bdf-b463-ab58c9b4c2a0",
   "metadata": {},
   "source": [
    "# POST YOUR GITHUB HOME PAGE\n",
    "\n",
    "When finished editing your home page content in Jupyter Notebook: \n",
    "\n",
    "    1) GO TO JUPYTER NOTEBOOK `FILE` MENU\n",
    "    2) Select `Download As...` Menu\n",
    "    3) Save as `Markdown`\n",
    "    4) Rename this file to simply `README.md`.\n",
    "    5) Move this file to your `https://www.github.com/accountname/YOUR_PROJECT_REPOSITORY` repository.\n",
    "    6) Replace your existing `readme.md` file with this one.  (You may be required to log out and log back in.)\n",
    "    7) Your new `readme.md` file should appear in your FOR THIS PROJECT.\n",
    "    8) Verify that all FOLDER OR REMOTE REPOSITORY links correctly open from ***THIS*** PROJECT HOME PAGE.\n",
    "    \n",
    "***DELETE THESE INSTRUCTIONS WHEN FINISHED:***"
   ]
  },
  {
   "cell_type": "markdown",
   "id": "819520fd-3f62-4c02-93f4-55ffb4d833df",
   "metadata": {},
   "source": [
    "#### Example of how to display Python code properly highlighted."
   ]
  },
  {
   "cell_type": "markdown",
   "id": "1bcd111d",
   "metadata": {},
   "source": [
    "```python\n",
    "import yfinance as yf\n",
    "\n",
    "msft = yf.Ticker(\"MSFT\")\n",
    "\n",
    "# get stock info\n",
    "msft.info\n",
    "\n",
    "# get historical market data\n",
    "hist = msft.history(period=\"max\")\n",
    "```"
   ]
  },
  {
   "cell_type": "markdown",
   "id": "ccfa3370",
   "metadata": {},
   "source": []
  }
 ],
 "metadata": {
  "kernelspec": {
   "display_name": "Python 3 (ipykernel)",
   "language": "python",
   "name": "python3"
  },
  "language_info": {
   "codemirror_mode": {
    "name": "ipython",
    "version": 3
   },
   "file_extension": ".py",
   "mimetype": "text/x-python",
   "name": "python",
   "nbconvert_exporter": "python",
   "pygments_lexer": "ipython3",
   "version": "3.10.8"
  },
  "toc": {
   "base_numbering": 1,
   "nav_menu": {},
   "number_sections": true,
   "sideBar": true,
   "skip_h1_title": false,
   "title_cell": "Table of Contents",
   "title_sidebar": "Contents",
   "toc_cell": false,
   "toc_position": {},
   "toc_section_display": true,
   "toc_window_display": false
  },
  "toc-autonumbering": false,
  "varInspector": {
   "cols": {
    "lenName": 16,
    "lenType": 16,
    "lenVar": 40
   },
   "kernels_config": {
    "python": {
     "delete_cmd_postfix": "",
     "delete_cmd_prefix": "del ",
     "library": "var_list.py",
     "varRefreshCmd": "print(var_dic_list())"
    },
    "r": {
     "delete_cmd_postfix": ") ",
     "delete_cmd_prefix": "rm(",
     "library": "var_list.r",
     "varRefreshCmd": "cat(var_dic_list()) "
    }
   },
   "types_to_exclude": [
    "module",
    "function",
    "builtin_function_or_method",
    "instance",
    "_Feature"
   ],
   "window_display": false
  }
 },
 "nbformat": 4,
 "nbformat_minor": 5
}
